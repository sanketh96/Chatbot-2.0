{
  "nbformat": 4,
  "nbformat_minor": 0,
  "metadata": {
    "colab": {
      "name": "NER-LSTM-CRF(kaggle-augmented).ipynb",
      "provenance": [],
      "collapsed_sections": [],
      "include_colab_link": true
    },
    "kernelspec": {
      "name": "python3",
      "display_name": "Python 3"
    }
  },
  "cells": [
    {
      "cell_type": "markdown",
      "metadata": {
        "id": "view-in-github",
        "colab_type": "text"
      },
      "source": [
        "<a href=\"https://colab.research.google.com/github/sanketh96/Chatbot-2.0/blob/master/NER_LSTM_CRF(kaggle_augmented).ipynb\" target=\"_parent\"><img src=\"https://colab.research.google.com/assets/colab-badge.svg\" alt=\"Open In Colab\"/></a>"
      ]
    },
    {
      "cell_type": "code",
      "metadata": {
        "id": "lGuA7OOxOLg7",
        "colab_type": "code",
        "colab": {}
      },
      "source": [
        ""
      ],
      "execution_count": 0,
      "outputs": []
    },
    {
      "cell_type": "code",
      "metadata": {
        "id": "E4v_xzMTO6qI",
        "colab_type": "code",
        "outputId": "9ab95e0a-d339-43a1-fea7-fdf1eb218919",
        "colab": {
          "base_uri": "https://localhost:8080/",
          "height": 289
        }
      },
      "source": [
        "!pip install git+https://www.github.com/keras-team/keras-contrib.git"
      ],
      "execution_count": 0,
      "outputs": [
        {
          "output_type": "stream",
          "text": [
            "Collecting git+https://www.github.com/keras-team/keras-contrib.git\n",
            "  Cloning https://www.github.com/keras-team/keras-contrib.git to /tmp/pip-req-build-q6gxgw6u\n",
            "Requirement already satisfied: keras in /usr/local/lib/python3.6/dist-packages (from keras-contrib==2.0.8) (2.2.4)\n",
            "Requirement already satisfied: scipy>=0.14 in /usr/local/lib/python3.6/dist-packages (from keras->keras-contrib==2.0.8) (1.1.0)\n",
            "Requirement already satisfied: six>=1.9.0 in /usr/local/lib/python3.6/dist-packages (from keras->keras-contrib==2.0.8) (1.11.0)\n",
            "Requirement already satisfied: keras-applications>=1.0.6 in /usr/local/lib/python3.6/dist-packages (from keras->keras-contrib==2.0.8) (1.0.7)\n",
            "Requirement already satisfied: h5py in /usr/local/lib/python3.6/dist-packages (from keras->keras-contrib==2.0.8) (2.8.0)\n",
            "Requirement already satisfied: pyyaml in /usr/local/lib/python3.6/dist-packages (from keras->keras-contrib==2.0.8) (3.13)\n",
            "Requirement already satisfied: numpy>=1.9.1 in /usr/local/lib/python3.6/dist-packages (from keras->keras-contrib==2.0.8) (1.14.6)\n",
            "Requirement already satisfied: keras-preprocessing>=1.0.5 in /usr/local/lib/python3.6/dist-packages (from keras->keras-contrib==2.0.8) (1.0.9)\n",
            "Building wheels for collected packages: keras-contrib\n",
            "  Building wheel for keras-contrib (setup.py) ... \u001b[?25ldone\n",
            "\u001b[?25h  Stored in directory: /tmp/pip-ephem-wheel-cache-h0g410kx/wheels/11/27/c8/4ed56de7b55f4f61244e2dc6ef3cdbaff2692527a2ce6502ba\n",
            "Successfully built keras-contrib\n",
            "Installing collected packages: keras-contrib\n",
            "Successfully installed keras-contrib-2.0.8\n"
          ],
          "name": "stdout"
        }
      ]
    },
    {
      "cell_type": "code",
      "metadata": {
        "id": "6xyK0ylNO6sv",
        "colab_type": "code",
        "colab": {}
      },
      "source": [
        ""
      ],
      "execution_count": 0,
      "outputs": []
    },
    {
      "cell_type": "code",
      "metadata": {
        "id": "O6v_demdO6vR",
        "colab_type": "code",
        "outputId": "899e63b1-dece-42bc-ca77-6c7b1a8ac47d",
        "colab": {
          "base_uri": "https://localhost:8080/",
          "height": 122
        }
      },
      "source": [
        "from google.colab import drive\n",
        "drive.mount('/content/gdrive')"
      ],
      "execution_count": 0,
      "outputs": [
        {
          "output_type": "stream",
          "text": [
            "Go to this URL in a browser: https://accounts.google.com/o/oauth2/auth?client_id=947318989803-6bn6qk8qdgf4n4g3pfee6491hc0brc4i.apps.googleusercontent.com&redirect_uri=urn%3Aietf%3Awg%3Aoauth%3A2.0%3Aoob&scope=email%20https%3A%2F%2Fwww.googleapis.com%2Fauth%2Fdocs.test%20https%3A%2F%2Fwww.googleapis.com%2Fauth%2Fdrive%20https%3A%2F%2Fwww.googleapis.com%2Fauth%2Fdrive.photos.readonly%20https%3A%2F%2Fwww.googleapis.com%2Fauth%2Fpeopleapi.readonly&response_type=code\n",
            "\n",
            "Enter your authorization code:\n",
            "··········\n",
            "Mounted at /content/gdrive\n"
          ],
          "name": "stdout"
        }
      ]
    },
    {
      "cell_type": "code",
      "metadata": {
        "id": "5FXd_t5uO7XD",
        "colab_type": "code",
        "colab": {}
      },
      "source": [
        "import pandas as pd\n",
        "import numpy as np\n",
        "import copy"
      ],
      "execution_count": 0,
      "outputs": []
    },
    {
      "cell_type": "code",
      "metadata": {
        "id": "HWfAJh_8PHUQ",
        "colab_type": "code",
        "colab": {}
      },
      "source": [
        "data = pd.read_csv('gdrive/My Drive/augmented_new.csv', encoding=\"latin1\")"
      ],
      "execution_count": 0,
      "outputs": []
    },
    {
      "cell_type": "code",
      "metadata": {
        "id": "x0bNE4y2PNco",
        "colab_type": "code",
        "colab": {}
      },
      "source": [
        "data = data.fillna(method=\"ffill\")\n"
      ],
      "execution_count": 0,
      "outputs": []
    },
    {
      "cell_type": "code",
      "metadata": {
        "id": "PLIcTqVBPRYV",
        "colab_type": "code",
        "outputId": "d7a47b03-2097-438d-88d1-f81187482554",
        "colab": {
          "base_uri": "https://localhost:8080/",
          "height": 359
        }
      },
      "source": [
        "data.tail(10)\n"
      ],
      "execution_count": 0,
      "outputs": [
        {
          "output_type": "execute_result",
          "data": {
            "text/html": [
              "<div>\n",
              "<style scoped>\n",
              "    .dataframe tbody tr th:only-of-type {\n",
              "        vertical-align: middle;\n",
              "    }\n",
              "\n",
              "    .dataframe tbody tr th {\n",
              "        vertical-align: top;\n",
              "    }\n",
              "\n",
              "    .dataframe thead th {\n",
              "        text-align: right;\n",
              "    }\n",
              "</style>\n",
              "<table border=\"1\" class=\"dataframe\">\n",
              "  <thead>\n",
              "    <tr style=\"text-align: right;\">\n",
              "      <th></th>\n",
              "      <th>Unnamed: 0</th>\n",
              "      <th>POS</th>\n",
              "      <th>final_tag</th>\n",
              "      <th>sentence_id</th>\n",
              "      <th>word</th>\n",
              "    </tr>\n",
              "  </thead>\n",
              "  <tbody>\n",
              "    <tr>\n",
              "      <th>627320</th>\n",
              "      <td>406397</td>\n",
              "      <td>NNS</td>\n",
              "      <td>o</td>\n",
              "      <td>25596</td>\n",
              "      <td>clashes</td>\n",
              "    </tr>\n",
              "    <tr>\n",
              "      <th>627321</th>\n",
              "      <td>406398</td>\n",
              "      <td>IN</td>\n",
              "      <td>o</td>\n",
              "      <td>25596</td>\n",
              "      <td>with</td>\n",
              "    </tr>\n",
              "    <tr>\n",
              "      <th>627322</th>\n",
              "      <td>406399</td>\n",
              "      <td>NN</td>\n",
              "      <td>o</td>\n",
              "      <td>25596</td>\n",
              "      <td>security</td>\n",
              "    </tr>\n",
              "    <tr>\n",
              "      <th>627323</th>\n",
              "      <td>406400</td>\n",
              "      <td>NNS</td>\n",
              "      <td>o</td>\n",
              "      <td>25596</td>\n",
              "      <td>forces</td>\n",
              "    </tr>\n",
              "    <tr>\n",
              "      <th>627324</th>\n",
              "      <td>406401</td>\n",
              "      <td>IN</td>\n",
              "      <td>o</td>\n",
              "      <td>25596</td>\n",
              "      <td>during</td>\n",
              "    </tr>\n",
              "    <tr>\n",
              "      <th>627325</th>\n",
              "      <td>406402</td>\n",
              "      <td>NN</td>\n",
              "      <td>o</td>\n",
              "      <td>25596</td>\n",
              "      <td>post-election</td>\n",
              "    </tr>\n",
              "    <tr>\n",
              "      <th>627326</th>\n",
              "      <td>406403</td>\n",
              "      <td>,</td>\n",
              "      <td>o</td>\n",
              "      <td>25596</td>\n",
              "      <td>,</td>\n",
              "    </tr>\n",
              "    <tr>\n",
              "      <th>627327</th>\n",
              "      <td>406404</td>\n",
              "      <td>JJ</td>\n",
              "      <td>o</td>\n",
              "      <td>25596</td>\n",
              "      <td>anti-government</td>\n",
              "    </tr>\n",
              "    <tr>\n",
              "      <th>627328</th>\n",
              "      <td>406405</td>\n",
              "      <td>NNS</td>\n",
              "      <td>o</td>\n",
              "      <td>25596</td>\n",
              "      <td>demonstrations</td>\n",
              "    </tr>\n",
              "    <tr>\n",
              "      <th>627329</th>\n",
              "      <td>406406</td>\n",
              "      <td>.</td>\n",
              "      <td>o</td>\n",
              "      <td>25596</td>\n",
              "      <td>.</td>\n",
              "    </tr>\n",
              "  </tbody>\n",
              "</table>\n",
              "</div>"
            ],
            "text/plain": [
              "        Unnamed: 0  POS final_tag  sentence_id             word\n",
              "627320      406397  NNS         o        25596          clashes\n",
              "627321      406398   IN         o        25596             with\n",
              "627322      406399   NN         o        25596         security\n",
              "627323      406400  NNS         o        25596           forces\n",
              "627324      406401   IN         o        25596           during\n",
              "627325      406402   NN         o        25596    post-election\n",
              "627326      406403    ,         o        25596                ,\n",
              "627327      406404   JJ         o        25596  anti-government\n",
              "627328      406405  NNS         o        25596   demonstrations\n",
              "627329      406406    .         o        25596                ."
            ]
          },
          "metadata": {
            "tags": []
          },
          "execution_count": 5
        }
      ]
    },
    {
      "cell_type": "code",
      "metadata": {
        "id": "GiouKz7tPTYP",
        "colab_type": "code",
        "outputId": "0f181dea-dd51-4c23-a52e-c3c9e88e9fb3",
        "colab": {
          "base_uri": "https://localhost:8080/",
          "height": 34
        }
      },
      "source": [
        "words = list(set(data[\"word\"].values))\n",
        "words.append(\"ENDPAD\")\n",
        "n_words = len(words); n_words"
      ],
      "execution_count": 0,
      "outputs": [
        {
          "output_type": "execute_result",
          "data": {
            "text/plain": [
              "32709"
            ]
          },
          "metadata": {
            "tags": []
          },
          "execution_count": 6
        }
      ]
    },
    {
      "cell_type": "code",
      "metadata": {
        "id": "GeKgeLJPPWM1",
        "colab_type": "code",
        "outputId": "510cfa20-a3b5-406d-8844-57027c85748a",
        "colab": {
          "base_uri": "https://localhost:8080/",
          "height": 34
        }
      },
      "source": [
        "tags = list(set(data[\"final_tag\"].values))\n",
        "n_tags = len(tags); n_tags"
      ],
      "execution_count": 0,
      "outputs": [
        {
          "output_type": "execute_result",
          "data": {
            "text/plain": [
              "17"
            ]
          },
          "metadata": {
            "tags": []
          },
          "execution_count": 7
        }
      ]
    },
    {
      "cell_type": "code",
      "metadata": {
        "id": "CzOGsMjKPYwQ",
        "colab_type": "code",
        "colab": {}
      },
      "source": [
        "class SentenceGetter(object):\n",
        "    \n",
        "    def __init__(self, data):\n",
        "        self.n_sent = 1\n",
        "        self.data = data\n",
        "        self.empty = False\n",
        "        agg_func = lambda s: [(w, p, t) for w, p, t in zip(s[\"word\"].values.tolist(),\n",
        "                                                           s[\"POS\"].values.tolist(),\n",
        "                                                           s[\"final_tag\"].values.tolist())]\n",
        "        self.grouped = self.data.groupby(\"sentence_id\").apply(agg_func)\n",
        "        self.sentences = [s for s in self.grouped]\n",
        "    \n",
        "    def get_next(self):\n",
        "        try:\n",
        "            s = self.grouped[self.n_sent]\n",
        "            self.n_sent += 1\n",
        "            return s\n",
        "        except:\n",
        "            return None"
      ],
      "execution_count": 0,
      "outputs": []
    },
    {
      "cell_type": "code",
      "metadata": {
        "id": "AEft946JPb7r",
        "colab_type": "code",
        "colab": {}
      },
      "source": [
        "getter = SentenceGetter(data)\n"
      ],
      "execution_count": 0,
      "outputs": []
    },
    {
      "cell_type": "code",
      "metadata": {
        "id": "_zpoHyCuPeA7",
        "colab_type": "code",
        "colab": {}
      },
      "source": [
        "sent = getter.get_next()\n"
      ],
      "execution_count": 0,
      "outputs": []
    },
    {
      "cell_type": "code",
      "metadata": {
        "id": "tFSownDSPgUm",
        "colab_type": "code",
        "outputId": "78c58ddc-85a5-4160-d2d9-e5e016669614",
        "colab": {
          "base_uri": "https://localhost:8080/",
          "height": 34
        }
      },
      "source": [
        "print(sent)\n"
      ],
      "execution_count": 0,
      "outputs": [
        {
          "output_type": "stream",
          "text": [
            "[('30', 'CD', 'o'), ('P.M', 'NNP', 'o'), ('National', 'NNP', 'o'), ('Savings', 'NNP', 'o'), ('Certificates', 'NNS', 'o'), ('(', '(', 'o'), ('NSC', 'NNP', 'o'), (')', 'SYM', 'o')]\n"
          ],
          "name": "stdout"
        }
      ]
    },
    {
      "cell_type": "code",
      "metadata": {
        "id": "kaXOxravPigv",
        "colab_type": "code",
        "colab": {}
      },
      "source": [
        "sentences = getter.sentences\n"
      ],
      "execution_count": 0,
      "outputs": []
    },
    {
      "cell_type": "code",
      "metadata": {
        "id": "vZ3e-wK_TWjn",
        "colab_type": "code",
        "outputId": "e55869dd-efdd-4267-e8ef-a60dcb67766d",
        "colab": {
          "base_uri": "https://localhost:8080/",
          "height": 717
        }
      },
      "source": [
        "cleaned_sentences = copy.deepcopy(sentences)\n",
        "for outer_index in range(len(sentences)):\n",
        "  for inner_index in range(len(sentences[outer_index])):\n",
        "    if type(sentences[outer_index][inner_index][0]) is not str:\n",
        "      print(sentences[outer_index])\n",
        "      print(sentences[outer_index][inner_index])\n",
        "      temp_list = list(sentences[outer_index][inner_index])\n",
        "      temp_list[0] = ' '\n",
        "      cleaned_sentences[outer_index][inner_index] = tuple(temp_list)\n",
        "      print(\"After cleaning : \")\n",
        "      print(cleaned_sentences[outer_index])\n",
        "      print(cleaned_sentences[outer_index][inner_index])"
      ],
      "execution_count": 0,
      "outputs": [
        {
          "output_type": "stream",
          "text": [
            "[('39', 'CD', 'o'), ('in', 'IN', 'o'), (')', 'SYM', 'o'), ('per', 'IN', 'o'), ('hour', 'NN', 'o'), ('[', '(', 'o'), ('95', 'CD', 'o'), (']', ')', 'o'), ('[', '(', 'o'), ('96', 'CD', 'o'), (']', ')', 'o'), ('*', 'SYM', 'o'), ('Heavy', 'NNP', 'o'), ('rain', 'NN', 'o'), ('Ã¢Â\\x80Â\\x94', 'NN', 'o'), ('when', 'WRB', 'o'), ('the', 'DT', 'o'), ('precipitation', 'NN', 'o'), ('rate', 'NN', 'o'), ('is', 'VBZ', 'o'), (nan, 'SYM', 'o'), ('7', 'CD', 'o'), ('.', '.', 'o')]\n",
            "(nan, 'SYM', 'o')\n",
            "After cleaning : \n",
            "[('39', 'CD', 'o'), ('in', 'IN', 'o'), (')', 'SYM', 'o'), ('per', 'IN', 'o'), ('hour', 'NN', 'o'), ('[', '(', 'o'), ('95', 'CD', 'o'), (']', ')', 'o'), ('[', '(', 'o'), ('96', 'CD', 'o'), (']', ')', 'o'), ('*', 'SYM', 'o'), ('Heavy', 'NNP', 'o'), ('rain', 'NN', 'o'), ('Ã¢Â\\x80Â\\x94', 'NN', 'o'), ('when', 'WRB', 'o'), ('the', 'DT', 'o'), ('precipitation', 'NN', 'o'), ('rate', 'NN', 'o'), ('is', 'VBZ', 'o'), (' ', 'SYM', 'o'), ('7', 'CD', 'o'), ('.', '.', 'o')]\n",
            "(' ', 'SYM', 'o')\n",
            "[('0', 'CD', 'o'), ('in', 'IN', 'o'), (')', 'SYM', 'o'), ('per', 'IN', 'o'), ('hour', 'NN', 'o'), ('[', '(', 'o'), ('96', 'CD', 'o'), (']', ')', 'o'), ('*', 'SYM', 'o'), ('Violent', 'JJ', 'o'), ('rain', 'NN', 'o'), ('Ã¢Â\\x80Â\\x94', 'NN', 'o'), ('when', 'WRB', 'o'), ('the', 'DT', 'o'), ('precipitation', 'NN', 'o'), ('rate', 'NN', 'o'), ('is', 'VBZ', 'o'), (nan, 'SYM', 'o'), ('50', 'CD', 'B-NUM'), ('millimetres', 'NNS', 'I-NUM'), ('(', '(', 'o'), ('2', 'CD', 'o'), ('.', '.', 'o')]\n",
            "(nan, 'SYM', 'o')\n",
            "After cleaning : \n",
            "[('0', 'CD', 'o'), ('in', 'IN', 'o'), (')', 'SYM', 'o'), ('per', 'IN', 'o'), ('hour', 'NN', 'o'), ('[', '(', 'o'), ('96', 'CD', 'o'), (']', ')', 'o'), ('*', 'SYM', 'o'), ('Violent', 'JJ', 'o'), ('rain', 'NN', 'o'), ('Ã¢Â\\x80Â\\x94', 'NN', 'o'), ('when', 'WRB', 'o'), ('the', 'DT', 'o'), ('precipitation', 'NN', 'o'), ('rate', 'NN', 'o'), ('is', 'VBZ', 'o'), (' ', 'SYM', 'o'), ('50', 'CD', 'B-NUM'), ('millimetres', 'NNS', 'I-NUM'), ('(', '(', 'o'), ('2', 'CD', 'o'), ('.', '.', 'o')]\n",
            "(' ', 'SYM', 'o')\n",
            "[('[', '(', 'o'), ('17', 'CD', 'o'), (']', ')', 'o'), ('The', 'DT', 'o'), ('EncyclopÃ\\x83Â¦dia', 'NNP', 'o'), ('Britannica', 'NNP', 'o'), ('<', 'SYM', 'o'), ('/', 'NN', 'o'), ('ref', 'NN', 'o'), (nan, 'SYM', 'o'), ('Regulatory', 'NNP', 'o'), ('authorities', 'NNS', 'o'), ('like', 'IN', 'o'), ('UGC', 'NNP', 'B-ORG'), ('and', 'CC', 'o'), ('AICTE', 'NNP', 'o'), ('have', 'VBP', 'o'), ('been', 'VBN', 'o'), ('trying', 'VBG', 'o'), ('very', 'RB', 'o'), ('hard', 'JJ', 'o'), ('to', 'TO', 'o'), ('extirpate', 'VB', 'o'), ('the', 'DT', 'o'), ('menace', 'NN', 'o'), ('of', 'IN', 'o'), ('private', 'JJ', 'o'), ('universities', 'NNS', 'o'), ('which', 'WDT', 'o'), ('are', 'VBP', 'o'), ('running', 'VBG', 'o'), ('courses', 'NNS', 'o'), ('without', 'IN', 'o'), ('any', 'DT', 'o'), ('affiliation', 'NN', 'o'), ('or', 'CC', 'o'), ('recognition', 'NN', 'o'), ('.', '.', 'o')]\n",
            "(nan, 'SYM', 'o')\n",
            "After cleaning : \n",
            "[('[', '(', 'o'), ('17', 'CD', 'o'), (']', ')', 'o'), ('The', 'DT', 'o'), ('EncyclopÃ\\x83Â¦dia', 'NNP', 'o'), ('Britannica', 'NNP', 'o'), ('<', 'SYM', 'o'), ('/', 'NN', 'o'), ('ref', 'NN', 'o'), (' ', 'SYM', 'o'), ('Regulatory', 'NNP', 'o'), ('authorities', 'NNS', 'o'), ('like', 'IN', 'o'), ('UGC', 'NNP', 'B-ORG'), ('and', 'CC', 'o'), ('AICTE', 'NNP', 'o'), ('have', 'VBP', 'o'), ('been', 'VBN', 'o'), ('trying', 'VBG', 'o'), ('very', 'RB', 'o'), ('hard', 'JJ', 'o'), ('to', 'TO', 'o'), ('extirpate', 'VB', 'o'), ('the', 'DT', 'o'), ('menace', 'NN', 'o'), ('of', 'IN', 'o'), ('private', 'JJ', 'o'), ('universities', 'NNS', 'o'), ('which', 'WDT', 'o'), ('are', 'VBP', 'o'), ('running', 'VBG', 'o'), ('courses', 'NNS', 'o'), ('without', 'IN', 'o'), ('any', 'DT', 'o'), ('affiliation', 'NN', 'o'), ('or', 'CC', 'o'), ('recognition', 'NN', 'o'), ('.', '.', 'o')]\n",
            "(' ', 'SYM', 'o')\n",
            "[('6', 'CD', 'B-NUM'), ('(', '(', 'I-NUM'), ('Mw', 'NNP', 'I-NUM'), (nan, 'SYM', 'o'), ('earthquake', 'NN', 'o'), ('occurred', 'VBD', 'o'), ('about', 'IN', 'o'), ('500', 'CD', 'B-NUM'), ('km', 'NN', 'I-NUM'), ('(', '(', 'o'), ('311', 'CD', 'B-NUM'), ('mi', 'VB', 'I-NUM'), (nan, 'SYM', 'o'), ('southwest', 'RB', 'o'), ('of', 'IN', 'o'), ('Banda', 'NNP', 'B-LOC'), ('Aceh', 'NNP', 'I-LOC'), (',', ',', 'o'), ('Indonesia', 'NNP', 'B-LOC'), ('at', 'IN', 'o'), ('08:38', 'CD', 'B-DT'), ('UTC', 'NNP', 'o'), ('on', 'IN', 'o'), ('11', 'CD', 'B-DT'), ('April', 'NNP', 'I-DT'), ('2012', 'CD', 'I-DT'), ('.', '.', 'o')]\n",
            "(nan, 'SYM', 'o')\n",
            "After cleaning : \n",
            "[('6', 'CD', 'B-NUM'), ('(', '(', 'I-NUM'), ('Mw', 'NNP', 'I-NUM'), (' ', 'SYM', 'o'), ('earthquake', 'NN', 'o'), ('occurred', 'VBD', 'o'), ('about', 'IN', 'o'), ('500', 'CD', 'B-NUM'), ('km', 'NN', 'I-NUM'), ('(', '(', 'o'), ('311', 'CD', 'B-NUM'), ('mi', 'VB', 'I-NUM'), (nan, 'SYM', 'o'), ('southwest', 'RB', 'o'), ('of', 'IN', 'o'), ('Banda', 'NNP', 'B-LOC'), ('Aceh', 'NNP', 'I-LOC'), (',', ',', 'o'), ('Indonesia', 'NNP', 'B-LOC'), ('at', 'IN', 'o'), ('08:38', 'CD', 'B-DT'), ('UTC', 'NNP', 'o'), ('on', 'IN', 'o'), ('11', 'CD', 'B-DT'), ('April', 'NNP', 'I-DT'), ('2012', 'CD', 'I-DT'), ('.', '.', 'o')]\n",
            "(' ', 'SYM', 'o')\n",
            "[('6', 'CD', 'B-NUM'), ('(', '(', 'I-NUM'), ('Mw', 'NNP', 'I-NUM'), (nan, 'SYM', 'o'), ('earthquake', 'NN', 'o'), ('occurred', 'VBD', 'o'), ('about', 'IN', 'o'), ('500', 'CD', 'B-NUM'), ('km', 'NN', 'I-NUM'), ('(', '(', 'o'), ('311', 'CD', 'B-NUM'), ('mi', 'VB', 'I-NUM'), (nan, 'SYM', 'o'), ('southwest', 'RB', 'o'), ('of', 'IN', 'o'), ('Banda', 'NNP', 'B-LOC'), ('Aceh', 'NNP', 'I-LOC'), (',', ',', 'o'), ('Indonesia', 'NNP', 'B-LOC'), ('at', 'IN', 'o'), ('08:38', 'CD', 'B-DT'), ('UTC', 'NNP', 'o'), ('on', 'IN', 'o'), ('11', 'CD', 'B-DT'), ('April', 'NNP', 'I-DT'), ('2012', 'CD', 'I-DT'), ('.', '.', 'o')]\n",
            "(nan, 'SYM', 'o')\n",
            "After cleaning : \n",
            "[('6', 'CD', 'B-NUM'), ('(', '(', 'I-NUM'), ('Mw', 'NNP', 'I-NUM'), (' ', 'SYM', 'o'), ('earthquake', 'NN', 'o'), ('occurred', 'VBD', 'o'), ('about', 'IN', 'o'), ('500', 'CD', 'B-NUM'), ('km', 'NN', 'I-NUM'), ('(', '(', 'o'), ('311', 'CD', 'B-NUM'), ('mi', 'VB', 'I-NUM'), (' ', 'SYM', 'o'), ('southwest', 'RB', 'o'), ('of', 'IN', 'o'), ('Banda', 'NNP', 'B-LOC'), ('Aceh', 'NNP', 'I-LOC'), (',', ',', 'o'), ('Indonesia', 'NNP', 'B-LOC'), ('at', 'IN', 'o'), ('08:38', 'CD', 'B-DT'), ('UTC', 'NNP', 'o'), ('on', 'IN', 'o'), ('11', 'CD', 'B-DT'), ('April', 'NNP', 'I-DT'), ('2012', 'CD', 'I-DT'), ('.', '.', 'o')]\n",
            "(' ', 'SYM', 'o')\n",
            "[('2', 'CD', 'B-NUM'), ('mi', 'VB', 'I-NUM'), (nan, 'SYM', 'o'), (',', ',', 'o'), ('which', 'WDT', 'o'), ('is', 'VBZ', 'o'), ('considered', 'VBN', 'o'), ('relatively', 'RB', 'o'), ('shallow', 'JJ', 'o'), ('according', 'VBG', 'o'), ('to', 'TO', 'o'), ('the', 'DT', 'o'), ('scale', 'NN', 'o'), ('used', 'VBN', 'o'), ('by', 'IN', 'o'), ('the', 'DT', 'o'), ('United', 'NNP', 'o'), ('States', 'NNP', 'o'), ('Geological', 'NNP', 'o'), ('Survey', 'NNP', 'o'), ('(', '(', 'o'), ('USGS', 'NNP', 'o'), (')', 'SYM', 'o'), ('.', '.', 'o')]\n",
            "(nan, 'SYM', 'o')\n",
            "After cleaning : \n",
            "[('2', 'CD', 'B-NUM'), ('mi', 'VB', 'I-NUM'), (' ', 'SYM', 'o'), (',', ',', 'o'), ('which', 'WDT', 'o'), ('is', 'VBZ', 'o'), ('considered', 'VBN', 'o'), ('relatively', 'RB', 'o'), ('shallow', 'JJ', 'o'), ('according', 'VBG', 'o'), ('to', 'TO', 'o'), ('the', 'DT', 'o'), ('scale', 'NN', 'o'), ('used', 'VBN', 'o'), ('by', 'IN', 'o'), ('the', 'DT', 'o'), ('United', 'NNP', 'o'), ('States', 'NNP', 'o'), ('Geological', 'NNP', 'o'), ('Survey', 'NNP', 'o'), ('(', '(', 'o'), ('USGS', 'NNP', 'o'), (')', 'SYM', 'o'), ('.', '.', 'o')]\n",
            "(' ', 'SYM', 'o')\n",
            "[('Marking', 'VBG', 'o'), ('scales', 'NNS', 'o'), ('for', 'IN', 'o'), ('honours', 'NNS', 'o'), ('differ', 'VBP', 'o'), (';', ':', 'o'), ('generally', 'RB', 'o'), (',', ',', 'o'), ('First', 'NNP', 'o'), ('Class', 'NNP', 'o'), ('Honours', 'NNP', 'o'), ('(', '(', 'o'), ('80Ã¢Â\\x80Â\\x93100', 'CD', 'B-NUM'), ('%', 'NN', 'I-NUM'), (')', 'SYM', 'o'), ('denotes', 'VBZ', 'o'), ('an', 'DT', 'o'), ('excellent', 'JJ', 'o'), ('standard', 'NN', 'o'), ('of', 'IN', 'o'), ('achievement', 'NN', 'o'), (';', ':', 'o'), ('Second', 'NNP', 'o'), ('Class', 'NNP', 'o'), ('Division', 'NNP', 'o'), ('1', 'CD', 'o'), ('(', '(', 'o'), ('75Ã¢Â\\x80Â\\x9379', 'CD', 'B-NUM'), (nan, 'NN', 'o'), (')', 'SYM', 'o'), ('a', 'DT', 'o'), ('high', 'JJ', 'o'), ('standard', 'JJ', 'o'), (';', ':', 'o'), ('Second', 'NNP', 'o'), ('Class', 'NNP', 'o'), ('Division', 'NNP', 'o'), ('2', 'CD', 'o'), ('(', '(', 'o'), ('70Ã¢Â\\x80Â\\x9374', 'CD', 'B-NUM'), ('%', 'NN', 'I-NUM'), (')', 'SYM', 'o'), ('a', 'DT', 'o'), ('good', 'JJ', 'o'), ('standard', 'JJ', 'o'), (';', ':', 'o'), ('Third', 'NNP', 'o'), ('Class', 'NNP', 'o'), ('(', '(', 'o'), ('65Ã¢Â\\x80Â\\x9369', 'CD', 'B-NUM'), ('%', 'NN', 'I-NUM'), (')', 'SYM', 'o'), ('satisfactory', 'JJ', 'o'), ('standard', 'JJ', 'o'), (';', ':', 'o'), ('between', 'IN', 'o'), ('0-64', 'JJ', 'B-NUM'), ('%', 'NN', 'I-NUM'), ('the', 'DT', 'o'), ('degree', 'NN', 'o'), ('is', 'VBZ', 'o'), ('not', 'RB', 'o'), ('awarded', 'VBN', 'o'), ('with', 'IN', 'o'), ('honours', 'NNS', 'o'), (',', ',', 'o'), ('but', 'CC', 'o'), ('may', 'MD', 'o'), ('be', 'VB', 'o'), ('conferred', 'VBN', 'o'), ('as', 'IN', 'o'), ('a', 'DT', 'o'), ('pass', 'NN', 'o'), ('degree', 'NN', 'o'), ('.', '.', 'o')]\n",
            "(nan, 'NN', 'o')\n",
            "After cleaning : \n",
            "[('Marking', 'VBG', 'o'), ('scales', 'NNS', 'o'), ('for', 'IN', 'o'), ('honours', 'NNS', 'o'), ('differ', 'VBP', 'o'), (';', ':', 'o'), ('generally', 'RB', 'o'), (',', ',', 'o'), ('First', 'NNP', 'o'), ('Class', 'NNP', 'o'), ('Honours', 'NNP', 'o'), ('(', '(', 'o'), ('80Ã¢Â\\x80Â\\x93100', 'CD', 'B-NUM'), ('%', 'NN', 'I-NUM'), (')', 'SYM', 'o'), ('denotes', 'VBZ', 'o'), ('an', 'DT', 'o'), ('excellent', 'JJ', 'o'), ('standard', 'NN', 'o'), ('of', 'IN', 'o'), ('achievement', 'NN', 'o'), (';', ':', 'o'), ('Second', 'NNP', 'o'), ('Class', 'NNP', 'o'), ('Division', 'NNP', 'o'), ('1', 'CD', 'o'), ('(', '(', 'o'), ('75Ã¢Â\\x80Â\\x9379', 'CD', 'B-NUM'), (' ', 'NN', 'o'), (')', 'SYM', 'o'), ('a', 'DT', 'o'), ('high', 'JJ', 'o'), ('standard', 'JJ', 'o'), (';', ':', 'o'), ('Second', 'NNP', 'o'), ('Class', 'NNP', 'o'), ('Division', 'NNP', 'o'), ('2', 'CD', 'o'), ('(', '(', 'o'), ('70Ã¢Â\\x80Â\\x9374', 'CD', 'B-NUM'), ('%', 'NN', 'I-NUM'), (')', 'SYM', 'o'), ('a', 'DT', 'o'), ('good', 'JJ', 'o'), ('standard', 'JJ', 'o'), (';', ':', 'o'), ('Third', 'NNP', 'o'), ('Class', 'NNP', 'o'), ('(', '(', 'o'), ('65Ã¢Â\\x80Â\\x9369', 'CD', 'B-NUM'), ('%', 'NN', 'I-NUM'), (')', 'SYM', 'o'), ('satisfactory', 'JJ', 'o'), ('standard', 'JJ', 'o'), (';', ':', 'o'), ('between', 'IN', 'o'), ('0-64', 'JJ', 'B-NUM'), ('%', 'NN', 'I-NUM'), ('the', 'DT', 'o'), ('degree', 'NN', 'o'), ('is', 'VBZ', 'o'), ('not', 'RB', 'o'), ('awarded', 'VBN', 'o'), ('with', 'IN', 'o'), ('honours', 'NNS', 'o'), (',', ',', 'o'), ('but', 'CC', 'o'), ('may', 'MD', 'o'), ('be', 'VB', 'o'), ('conferred', 'VBN', 'o'), ('as', 'IN', 'o'), ('a', 'DT', 'o'), ('pass', 'NN', 'o'), ('degree', 'NN', 'o'), ('.', '.', 'o')]\n",
            "(' ', 'NN', 'o')\n",
            "[('It', 'PRP', 'o'), ('is', 'VBZ', 'o'), ('similar', 'JJ', 'o'), ('to', 'TO', 'o'), ('a', 'DT', 'o'), ('BASc', 'NNP', 'o'), (',', ',', 'o'), ('BEng', 'NNP', 'o'), (',', ',', 'o'), ('BBE', 'NNP', 'o'), (',', ',', 'o'), ('B', 'NNP', 'o'), ('AS', 'NNP', 'o'), ('or', 'CC', 'o'), ('B', 'NNP', 'o'), ('ICT', 'NNP', 'o'), ('(', '(', 'o'), ('B', 'NNP', 'o'), ('IT', 'PRP', 'o'), (')', 'SYM', 'o'), (',', ',', 'o'), ('and', 'CC', 'o'), ('it', 'PRP', 'o'), ('may', 'MD', 'o'), ('be', 'VB', 'o'), ('formally', 'RB', 'o'), ('rendered', 'VBN', 'o'), ('as', 'IN', 'o'), ('B', 'NNP', 'o'), ('followed', 'VBN', 'o'), ('by', 'IN', 'o'), ('the', 'DT', 'o'), ('specialization', 'NN', 'o'), ('field', 'NN', 'o'), (',', ',', 'o'), ('instead', 'RB', 'o'), ('of', 'IN', 'o'), ('ing.', 'CD', 'o'), ('*', 'SYM', 'o'), ('ir.', 'CD', 'o'), ('for', 'IN', 'o'), ('those', 'DT', 'o'), ('having', 'VBG', 'o'), ('graduated', 'VBN', 'o'), ('from', 'IN', 'o'), ('technical', 'JJ', 'o'), ('university', 'NN', 'o'), ('after', 'IN', 'o'), ('a', 'DT', 'o'), ('minimum', 'NN', 'o'), ('of', 'IN', 'o'), ('five', 'CD', 'B-DT'), ('years', 'NNS', 'o'), (',', ',', 'o'), ('corresponding', 'JJ', 'o'), ('to', 'TO', 'o'), ('a', 'DT', 'o'), ('MSc', 'NNP', 'o'), (',', ',', 'o'), ('but', 'CC', 'o'), ('it', 'PRP', 'o'), ('may', 'MD', 'o'), ('be', 'VB', 'o'), ('formally', 'RB', 'o'), ('rendered', 'VBN', 'o'), ('as', 'IN', 'o'), ('M', 'NNP', 'o'), (',', ',', 'o'), ('instead', 'RB', 'o'), ('of', 'IN', 'o'), ('ir.', 'CD', 'o'), (')', 'SYM', 'o'), (',', ',', 'o'), ('*', 'SYM', 'o'), ('meester', 'NN', 'o'), ('in', 'IN', 'o'), ('de', 'FW', 'o'), ('rechten', 'VBN', 'o'), ('(', '(', 'o'), ('mr.', 'CD', 'o'), (';', ':', 'o'), ('it', 'PRP', 'o'), ('corresponds', 'VBZ', 'o'), ('to', 'TO', 'o'), ('LL.M.', 'NNP', 'o'), (',', ',', 'o'), ('but', 'CC', 'o'), ('it', 'PRP', 'o'), ('may', 'MD', 'o'), ('be', 'VB', 'o'), ('formally', 'RB', 'o'), ('rendered', 'VBN', 'o'), ('as', 'IN', 'o'), ('M', 'NNP', 'o'), ('instead', 'RB', 'o'), ('of', 'IN', 'o'), ('mr.', 'CD', 'o'), (')', 'SYM', 'o'), ('and', 'CC', 'o'), ('*', 'SYM', 'o'), ('doctor', 'NN', 'o'), ('(', '(', 'o'), ('dr.', 'JJ', 'o'), (';', ':', 'o'), ('it', 'PRP', 'o'), ('corresponds', 'VBZ', 'o'), ('to', 'TO', 'o'), (nan, 'NNP', 'o'), (',', ',', 'o'), ('but', 'CC', 'o'), ('it', 'PRP', 'o'), ('may', 'MD', 'o'), ('formally', 'RB', 'o'), ('be', 'VB', 'o'), ('rendered', 'VBN', 'o'), ('as', 'IN', 'o'), ('D', 'NN', 'o'), ('instead', 'RB', 'o'), ('of', 'IN', 'o'), ('dr.', 'JJ', 'o'), (')', 'SYM', 'o'), ('[', '(', 'o'), ('13', 'CD', 'o'), (']', ')', 'o'), ('are', 'VBP', 'o'), ('still', 'RB', 'o'), ('granted', 'VBN', 'o'), ('along', 'IN', 'o'), ('with', 'IN', 'o'), ('their', 'PRP$', 'o'), ('international', 'JJ', 'o'), ('equivalents', 'NNS', 'o'), ('.', '.', 'o')]\n",
            "(nan, 'NNP', 'o')\n",
            "After cleaning : \n",
            "[('It', 'PRP', 'o'), ('is', 'VBZ', 'o'), ('similar', 'JJ', 'o'), ('to', 'TO', 'o'), ('a', 'DT', 'o'), ('BASc', 'NNP', 'o'), (',', ',', 'o'), ('BEng', 'NNP', 'o'), (',', ',', 'o'), ('BBE', 'NNP', 'o'), (',', ',', 'o'), ('B', 'NNP', 'o'), ('AS', 'NNP', 'o'), ('or', 'CC', 'o'), ('B', 'NNP', 'o'), ('ICT', 'NNP', 'o'), ('(', '(', 'o'), ('B', 'NNP', 'o'), ('IT', 'PRP', 'o'), (')', 'SYM', 'o'), (',', ',', 'o'), ('and', 'CC', 'o'), ('it', 'PRP', 'o'), ('may', 'MD', 'o'), ('be', 'VB', 'o'), ('formally', 'RB', 'o'), ('rendered', 'VBN', 'o'), ('as', 'IN', 'o'), ('B', 'NNP', 'o'), ('followed', 'VBN', 'o'), ('by', 'IN', 'o'), ('the', 'DT', 'o'), ('specialization', 'NN', 'o'), ('field', 'NN', 'o'), (',', ',', 'o'), ('instead', 'RB', 'o'), ('of', 'IN', 'o'), ('ing.', 'CD', 'o'), ('*', 'SYM', 'o'), ('ir.', 'CD', 'o'), ('for', 'IN', 'o'), ('those', 'DT', 'o'), ('having', 'VBG', 'o'), ('graduated', 'VBN', 'o'), ('from', 'IN', 'o'), ('technical', 'JJ', 'o'), ('university', 'NN', 'o'), ('after', 'IN', 'o'), ('a', 'DT', 'o'), ('minimum', 'NN', 'o'), ('of', 'IN', 'o'), ('five', 'CD', 'B-DT'), ('years', 'NNS', 'o'), (',', ',', 'o'), ('corresponding', 'JJ', 'o'), ('to', 'TO', 'o'), ('a', 'DT', 'o'), ('MSc', 'NNP', 'o'), (',', ',', 'o'), ('but', 'CC', 'o'), ('it', 'PRP', 'o'), ('may', 'MD', 'o'), ('be', 'VB', 'o'), ('formally', 'RB', 'o'), ('rendered', 'VBN', 'o'), ('as', 'IN', 'o'), ('M', 'NNP', 'o'), (',', ',', 'o'), ('instead', 'RB', 'o'), ('of', 'IN', 'o'), ('ir.', 'CD', 'o'), (')', 'SYM', 'o'), (',', ',', 'o'), ('*', 'SYM', 'o'), ('meester', 'NN', 'o'), ('in', 'IN', 'o'), ('de', 'FW', 'o'), ('rechten', 'VBN', 'o'), ('(', '(', 'o'), ('mr.', 'CD', 'o'), (';', ':', 'o'), ('it', 'PRP', 'o'), ('corresponds', 'VBZ', 'o'), ('to', 'TO', 'o'), ('LL.M.', 'NNP', 'o'), (',', ',', 'o'), ('but', 'CC', 'o'), ('it', 'PRP', 'o'), ('may', 'MD', 'o'), ('be', 'VB', 'o'), ('formally', 'RB', 'o'), ('rendered', 'VBN', 'o'), ('as', 'IN', 'o'), ('M', 'NNP', 'o'), ('instead', 'RB', 'o'), ('of', 'IN', 'o'), ('mr.', 'CD', 'o'), (')', 'SYM', 'o'), ('and', 'CC', 'o'), ('*', 'SYM', 'o'), ('doctor', 'NN', 'o'), ('(', '(', 'o'), ('dr.', 'JJ', 'o'), (';', ':', 'o'), ('it', 'PRP', 'o'), ('corresponds', 'VBZ', 'o'), ('to', 'TO', 'o'), (' ', 'NNP', 'o'), (',', ',', 'o'), ('but', 'CC', 'o'), ('it', 'PRP', 'o'), ('may', 'MD', 'o'), ('formally', 'RB', 'o'), ('be', 'VB', 'o'), ('rendered', 'VBN', 'o'), ('as', 'IN', 'o'), ('D', 'NN', 'o'), ('instead', 'RB', 'o'), ('of', 'IN', 'o'), ('dr.', 'JJ', 'o'), (')', 'SYM', 'o'), ('[', '(', 'o'), ('13', 'CD', 'o'), (']', ')', 'o'), ('are', 'VBP', 'o'), ('still', 'RB', 'o'), ('granted', 'VBN', 'o'), ('along', 'IN', 'o'), ('with', 'IN', 'o'), ('their', 'PRP$', 'o'), ('international', 'JJ', 'o'), ('equivalents', 'NNS', 'o'), ('.', '.', 'o')]\n",
            "(' ', 'NNP', 'o')\n"
          ],
          "name": "stdout"
        }
      ]
    },
    {
      "cell_type": "code",
      "metadata": {
        "id": "tYyQZl0jTbrv",
        "colab_type": "code",
        "colab": {}
      },
      "source": [
        "cleaned_words = []\n",
        "for sent in cleaned_sentences:\n",
        "  for word in sent:\n",
        "    cleaned_words.append(word[0])\n",
        "words = list(set(cleaned_words))"
      ],
      "execution_count": 0,
      "outputs": []
    },
    {
      "cell_type": "code",
      "metadata": {
        "id": "WwKm2V1ShuTE",
        "colab_type": "code",
        "colab": {}
      },
      "source": [
        "words.sort()"
      ],
      "execution_count": 0,
      "outputs": []
    },
    {
      "cell_type": "code",
      "metadata": {
        "id": "yfrZ9X3Ah599",
        "colab_type": "code",
        "outputId": "50f01d51-4f11-4b6f-fd77-0ba64499963d",
        "colab": {
          "base_uri": "https://localhost:8080/",
          "height": 17034
        }
      },
      "source": [
        "words"
      ],
      "execution_count": 0,
      "outputs": [
        {
          "output_type": "execute_result",
          "data": {
            "text/plain": [
              "[' ',\n",
              " '!',\n",
              " '\"',\n",
              " '#',\n",
              " '#NAME?',\n",
              " '$',\n",
              " '$1.25',\n",
              " '$1.3',\n",
              " '$1.6',\n",
              " '$1.7',\n",
              " '$10',\n",
              " '$131,000',\n",
              " '$192,000',\n",
              " '$2.1',\n",
              " '$2.4',\n",
              " '$31.5',\n",
              " '$4.2',\n",
              " '$42.1',\n",
              " '$5.5',\n",
              " '$50,000',\n",
              " '$57.5',\n",
              " '$700,000',\n",
              " '$75.09',\n",
              " '$8',\n",
              " '$900,000',\n",
              " '%',\n",
              " '&',\n",
              " \"'\",\n",
              " \"'70s\",\n",
              " \"'ll\",\n",
              " \"'m\",\n",
              " \"'s\",\n",
              " '(',\n",
              " ')',\n",
              " \")'s\",\n",
              " '*',\n",
              " '+',\n",
              " ',',\n",
              " \",'summa\",\n",
              " '-',\n",
              " '--',\n",
              " '--an',\n",
              " '-.',\n",
              " '-0',\n",
              " '-05-27',\n",
              " '-11',\n",
              " '-9',\n",
              " '-LRB-',\n",
              " '-LSB-',\n",
              " '-Phase',\n",
              " '-RRB-',\n",
              " '-RSB-',\n",
              " '-for',\n",
              " '-in',\n",
              " '.',\n",
              " '...',\n",
              " '..next',\n",
              " '/',\n",
              " '0',\n",
              " '0-3',\n",
              " '0-5',\n",
              " '0-64',\n",
              " '0.01',\n",
              " '0.02',\n",
              " '0.04',\n",
              " '0.060092593',\n",
              " '0.068171296',\n",
              " '0.068217593',\n",
              " '0.068275463',\n",
              " '0.08',\n",
              " '0.1',\n",
              " '0.110474537',\n",
              " '0.12',\n",
              " '0.19',\n",
              " '0.2',\n",
              " '0.3',\n",
              " '0.35',\n",
              " '0.5',\n",
              " '0.6',\n",
              " '0.7',\n",
              " '0.8',\n",
              " '0.82',\n",
              " '00',\n",
              " '0000',\n",
              " '0039',\n",
              " '00684-11-26November',\n",
              " '00887-08-22August',\n",
              " '0098',\n",
              " '01-Feb',\n",
              " '01-Jan',\n",
              " '01-Jun',\n",
              " '01096-12-11December',\n",
              " '01361-07-26July',\n",
              " '01498-09-11September',\n",
              " '01605-02-03February',\n",
              " '01707-10-28October',\n",
              " '01854-12-23December',\n",
              " '02',\n",
              " '02-Feb',\n",
              " '02-Jan',\n",
              " '02-Jun',\n",
              " '02-May',\n",
              " '020',\n",
              " '021',\n",
              " '02B',\n",
              " '03',\n",
              " '03-56391777',\n",
              " '03-56391870',\n",
              " '03-Apr',\n",
              " '03-Feb',\n",
              " '03-Jan',\n",
              " '03-Jun',\n",
              " '03-Mar',\n",
              " '0390',\n",
              " '03B',\n",
              " '04-Feb',\n",
              " '04-Jan',\n",
              " '04-Jun',\n",
              " '05',\n",
              " '05-Apr',\n",
              " '05-Mar',\n",
              " '0566',\n",
              " '06-Apr',\n",
              " '06-Feb',\n",
              " '06-Jan',\n",
              " '06-Jul',\n",
              " '06-Mar',\n",
              " '0600',\n",
              " '06UTC',\n",
              " '07',\n",
              " '07-Feb',\n",
              " '07-Jun',\n",
              " '07-May',\n",
              " '08',\n",
              " '08:38',\n",
              " '09',\n",
              " '09-Feb',\n",
              " '09-Nov',\n",
              " '098',\n",
              " '09UTC',\n",
              " '1',\n",
              " '1,00,000',\n",
              " '1,000',\n",
              " '1,000,000',\n",
              " '1,017',\n",
              " '1,042',\n",
              " '1,07,000',\n",
              " '1,086',\n",
              " '1,10,000',\n",
              " '1,100',\n",
              " '1,125',\n",
              " '1,136',\n",
              " '1,15,000',\n",
              " '1,17,000',\n",
              " '1,20,000',\n",
              " '1,200',\n",
              " '1,214',\n",
              " '1,235-page',\n",
              " '1,247',\n",
              " '1,250',\n",
              " '1,27,000',\n",
              " '1,270',\n",
              " '1,30,000',\n",
              " '1,300',\n",
              " '1,346',\n",
              " '1,375',\n",
              " '1,38,000',\n",
              " '1,40,000',\n",
              " '1,400',\n",
              " '1,401',\n",
              " '1,450',\n",
              " '1,460',\n",
              " '1,50,000',\n",
              " '1,500',\n",
              " '1,500-meter',\n",
              " '1,500-meters',\n",
              " '1,55,000',\n",
              " '1,555',\n",
              " '1,569',\n",
              " '1,59,000',\n",
              " '1,60,000',\n",
              " '1,600',\n",
              " '1,600-kilometer',\n",
              " '1,630',\n",
              " '1,69,000',\n",
              " '1,70,000',\n",
              " '1,700',\n",
              " '1,700-year-old',\n",
              " '1,750',\n",
              " '1,80,000',\n",
              " '1,800',\n",
              " '1,854',\n",
              " '1,900',\n",
              " '1,950',\n",
              " '1-0',\n",
              " '1-Religare',\n",
              " '1-minute',\n",
              " '1-religare-health-raise-416-001237711',\n",
              " '1.06',\n",
              " '1.1',\n",
              " '1.16',\n",
              " '1.18',\n",
              " '1.2',\n",
              " '1.224',\n",
              " '1.28.01',\n",
              " '1.28.19',\n",
              " '1.3',\n",
              " '1.34',\n",
              " '1.38.53',\n",
              " '1.4',\n",
              " '1.5',\n",
              " '1.6',\n",
              " '1.61',\n",
              " '1.65',\n",
              " '1.7',\n",
              " '1.8',\n",
              " '1.9',\n",
              " '10',\n",
              " '10,000',\n",
              " '10,000,000',\n",
              " '10,000-square-kilometer',\n",
              " '10,287',\n",
              " '10-Dec',\n",
              " '10-day',\n",
              " '10-man',\n",
              " '10-month-old',\n",
              " '10-nation',\n",
              " '10-point',\n",
              " '10-story',\n",
              " '10-week',\n",
              " '10-year',\n",
              " '10-year-old',\n",
              " '10.5',\n",
              " '100',\n",
              " '100,000',\n",
              " '100,000-year-old',\n",
              " '100-200',\n",
              " '100-meter',\n",
              " '100-mm',\n",
              " '100-thousand',\n",
              " '100-year',\n",
              " '1000',\n",
              " '10000',\n",
              " '1002',\n",
              " '100th',\n",
              " '101',\n",
              " '1017',\n",
              " '101st',\n",
              " '102',\n",
              " '102-member',\n",
              " '103',\n",
              " '1030',\n",
              " '104',\n",
              " '104.1',\n",
              " '105',\n",
              " '1054',\n",
              " '1055',\n",
              " '106',\n",
              " '107',\n",
              " '1070',\n",
              " '108',\n",
              " '109',\n",
              " '1096',\n",
              " '10:09:13',\n",
              " '10:14',\n",
              " '10:21',\n",
              " '10:43',\n",
              " '10oN',\n",
              " '10oS',\n",
              " '10pm',\n",
              " '10th',\n",
              " '10Ã\\x82Â°',\n",
              " '11',\n",
              " '11,000',\n",
              " '11,300',\n",
              " '11,394',\n",
              " '11,430',\n",
              " '11,680',\n",
              " '11,684',\n",
              " '11,700',\n",
              " '11,872',\n",
              " '11,873',\n",
              " '11-day',\n",
              " '11-style',\n",
              " '11-year',\n",
              " '11-year-old',\n",
              " '11.6',\n",
              " '110',\n",
              " '110,000',\n",
              " '1100',\n",
              " '1104',\n",
              " '1106',\n",
              " '111',\n",
              " '112',\n",
              " '112-foot',\n",
              " '1120s',\n",
              " '113',\n",
              " '113th',\n",
              " '114',\n",
              " '114494',\n",
              " '115',\n",
              " '115th',\n",
              " '116',\n",
              " '117',\n",
              " '118',\n",
              " '119',\n",
              " '11:38',\n",
              " '11th',\n",
              " '11th-century',\n",
              " '11th-hour',\n",
              " '11th-largest',\n",
              " '12',\n",
              " '12,000',\n",
              " '12,200',\n",
              " '12,500',\n",
              " '12-foot',\n",
              " '12-hour',\n",
              " '12-month',\n",
              " '12-point',\n",
              " '12-year',\n",
              " '12-year-old',\n",
              " '12.5',\n",
              " '120',\n",
              " '120-member',\n",
              " '1200',\n",
              " '121',\n",
              " '121,000',\n",
              " '122',\n",
              " '123',\n",
              " '1236',\n",
              " '124',\n",
              " '1240',\n",
              " '125',\n",
              " '125-year',\n",
              " '126',\n",
              " '127',\n",
              " '1275',\n",
              " '1278',\n",
              " '128',\n",
              " '129',\n",
              " '12th',\n",
              " '12Ã¢Â\\x80Â\\x9320',\n",
              " '12Ã¢Â\\x88Â\\x92August',\n",
              " '13',\n",
              " '13,000',\n",
              " '13,100',\n",
              " '13,299',\n",
              " '13,300',\n",
              " '13,894',\n",
              " '13-member',\n",
              " '13-year-old',\n",
              " '13.73',\n",
              " '130',\n",
              " '130.6',\n",
              " '13010',\n",
              " '131',\n",
              " '131-5',\n",
              " '132',\n",
              " '132,000',\n",
              " '132435',\n",
              " '133',\n",
              " '134',\n",
              " '135',\n",
              " '135.6',\n",
              " '136',\n",
              " '1361',\n",
              " '137',\n",
              " '138',\n",
              " '139',\n",
              " '1397',\n",
              " '13th',\n",
              " '13Ã\\x82Â°',\n",
              " '14',\n",
              " '14,000',\n",
              " '14-kilometer-long',\n",
              " '14-month',\n",
              " '14-thousand',\n",
              " '14-year-old',\n",
              " '14.7',\n",
              " '140',\n",
              " '140-kilometers',\n",
              " '141',\n",
              " '141.9',\n",
              " '142',\n",
              " '143',\n",
              " '144',\n",
              " '145',\n",
              " '146',\n",
              " '147',\n",
              " '148',\n",
              " '148.9',\n",
              " '1480Ã¢Â\\x80Â\\x931564',\n",
              " '1484',\n",
              " '149',\n",
              " '149.9',\n",
              " '1492',\n",
              " '1493',\n",
              " '1494',\n",
              " '1498',\n",
              " '14:38',\n",
              " '14th',\n",
              " '14th-century',\n",
              " '15',\n",
              " '15,000',\n",
              " '15,199',\n",
              " '15-18',\n",
              " '15-20',\n",
              " '15-Feb',\n",
              " '15-Rs',\n",
              " '15-kilometer',\n",
              " '15-member',\n",
              " '15-nation',\n",
              " '15-party',\n",
              " '15-year',\n",
              " '15-year-old',\n",
              " '15.5',\n",
              " '150',\n",
              " '150,000',\n",
              " '150-thousand',\n",
              " '15000',\n",
              " '151',\n",
              " '152',\n",
              " '1528',\n",
              " '153',\n",
              " '153.3',\n",
              " '1533',\n",
              " '154',\n",
              " '154th',\n",
              " '155',\n",
              " '1559',\n",
              " '156',\n",
              " '1563',\n",
              " '1569',\n",
              " '157',\n",
              " '1578',\n",
              " '158',\n",
              " '159',\n",
              " '1598',\n",
              " '1599',\n",
              " '159th',\n",
              " '15:38',\n",
              " '15th',\n",
              " '16',\n",
              " '16,000',\n",
              " '16-18',\n",
              " '16-day',\n",
              " '16-stop',\n",
              " '16-team',\n",
              " '16-year',\n",
              " '16-year-old',\n",
              " '16.125',\n",
              " '16.2',\n",
              " '160',\n",
              " '1600',\n",
              " '16000',\n",
              " '1600s',\n",
              " '1603',\n",
              " '1605',\n",
              " '1607',\n",
              " '1609',\n",
              " '162',\n",
              " '162-page',\n",
              " '1621',\n",
              " '163',\n",
              " '1631',\n",
              " '1632',\n",
              " '1634',\n",
              " '164',\n",
              " '1648',\n",
              " '1649',\n",
              " '165',\n",
              " '1650',\n",
              " '1655',\n",
              " '1657',\n",
              " '166',\n",
              " '1660',\n",
              " '16667816',\n",
              " '16669061',\n",
              " '1667',\n",
              " '167',\n",
              " '1672',\n",
              " '16723083',\n",
              " '16723841',\n",
              " '16737916',\n",
              " '16746010',\n",
              " '16762514',\n",
              " '169',\n",
              " '1697',\n",
              " '16th',\n",
              " '16Ã¢Â\\x80Â\\x9327',\n",
              " '17',\n",
              " '17,000',\n",
              " '17,143',\n",
              " '17,340',\n",
              " '17,500',\n",
              " '17-Jan',\n",
              " '17-member',\n",
              " '17-meters',\n",
              " '17-month',\n",
              " '17-year',\n",
              " '17-year-old',\n",
              " '17.09',\n",
              " '17.3',\n",
              " '170',\n",
              " '170,000',\n",
              " '1700',\n",
              " '1707',\n",
              " '171',\n",
              " '1713',\n",
              " '1715',\n",
              " '1718',\n",
              " '1719',\n",
              " '1721',\n",
              " '173',\n",
              " '1732',\n",
              " '174',\n",
              " '174th',\n",
              " '175',\n",
              " '175,000',\n",
              " '175,714',\n",
              " '175-run',\n",
              " '1750',\n",
              " '1755',\n",
              " '1759',\n",
              " '1761',\n",
              " '1762Ã¢Â\\x80Â\\x931827',\n",
              " '1765',\n",
              " '1770',\n",
              " '1771',\n",
              " '1772',\n",
              " '1775',\n",
              " '1776Ã¢Â\\x80Â\\x931827',\n",
              " '1783',\n",
              " '1784',\n",
              " '1788',\n",
              " '179',\n",
              " '179-run',\n",
              " '17941',\n",
              " '1795',\n",
              " '17:38',\n",
              " '17th',\n",
              " '17Ã\\x83Â\\x97',\n",
              " '18',\n",
              " '18,000',\n",
              " '18,000-strong',\n",
              " '18,700',\n",
              " '18-December-2005',\n",
              " '18-million',\n",
              " '18-month',\n",
              " '18-month-old',\n",
              " '18-wheeler',\n",
              " '18-year',\n",
              " '18-year-old',\n",
              " '180',\n",
              " '1800',\n",
              " '1800s',\n",
              " '1804',\n",
              " '1806',\n",
              " '1814',\n",
              " '1815',\n",
              " '1817',\n",
              " '182',\n",
              " '1820',\n",
              " '1820s',\n",
              " '1821',\n",
              " '1822',\n",
              " '1824',\n",
              " '1825',\n",
              " '1826',\n",
              " '1827',\n",
              " '1828',\n",
              " '1829',\n",
              " '183',\n",
              " '1830',\n",
              " '1834',\n",
              " '1837',\n",
              " '1838',\n",
              " '1839',\n",
              " '1840',\n",
              " '1844',\n",
              " '1847',\n",
              " '185',\n",
              " '1850',\n",
              " '1852Ã¢Â\\x80Â\\x931926',\n",
              " '1853',\n",
              " '1854',\n",
              " '1855',\n",
              " '1856',\n",
              " '1857',\n",
              " '1858',\n",
              " '1859',\n",
              " '186',\n",
              " '1860',\n",
              " '1861',\n",
              " '1861Ã¢Â\\x80Â\\x931939',\n",
              " '1862',\n",
              " '1863',\n",
              " '1864',\n",
              " '1865',\n",
              " '1866',\n",
              " '1867',\n",
              " '187',\n",
              " '1870',\n",
              " '1872',\n",
              " '1875',\n",
              " '1876',\n",
              " '188',\n",
              " '1881',\n",
              " '1882',\n",
              " '1883',\n",
              " '1885',\n",
              " '1886',\n",
              " '1888',\n",
              " '1891',\n",
              " '1892',\n",
              " '1894',\n",
              " '1896',\n",
              " '1897',\n",
              " '1898',\n",
              " '1899',\n",
              " '18th',\n",
              " '19',\n",
              " '19,000',\n",
              " '19-days',\n",
              " '19-month',\n",
              " '19-nation',\n",
              " '19-year-old',\n",
              " '190',\n",
              " '1900',\n",
              " '1900s',\n",
              " '1902',\n",
              " '1903',\n",
              " '1904',\n",
              " '1905',\n",
              " '1906',\n",
              " '1907',\n",
              " '1908',\n",
              " '1909',\n",
              " '191',\n",
              " '1910',\n",
              " '1911',\n",
              " '1912',\n",
              " '1912Ã¢Â\\x80Â\\x931931',\n",
              " '1913',\n",
              " '1914',\n",
              " '1915',\n",
              " '1916',\n",
              " '1917',\n",
              " '1918',\n",
              " '1919',\n",
              " '192',\n",
              " '192-member',\n",
              " '1920',\n",
              " '19204',\n",
              " '1920s',\n",
              " '1921',\n",
              " '1921Ã¢Â\\x80Â\\x931932',\n",
              " '1922',\n",
              " '1923',\n",
              " '1924',\n",
              " '1926',\n",
              " '1927',\n",
              " '1928',\n",
              " '1929',\n",
              " '193',\n",
              " '1930',\n",
              " '1930s',\n",
              " '1931',\n",
              " '1932',\n",
              " '1933',\n",
              " '1934',\n",
              " '1935',\n",
              " '1936',\n",
              " '1936Ã¢Â\\x80Â\\x931952',\n",
              " '1937',\n",
              " '1938',\n",
              " '1939',\n",
              " '1940',\n",
              " '1940s',\n",
              " '1941',\n",
              " '1942',\n",
              " '1943',\n",
              " '1944',\n",
              " '1945',\n",
              " '1946',\n",
              " '1946Ã¢Â\\x80Â\\x9352',\n",
              " '1947',\n",
              " '1948',\n",
              " '1948Ã¢Â\\x80Â\\x931974',\n",
              " '1949',\n",
              " '195',\n",
              " '1950',\n",
              " '1950??952',\n",
              " '1950s',\n",
              " '1951',\n",
              " '1952',\n",
              " '1952??957',\n",
              " '1952Ã¢Â\\x80Â\\x931962',\n",
              " '1953',\n",
              " '1953-1954',\n",
              " '1954',\n",
              " '1955',\n",
              " '1956',\n",
              " '1957',\n",
              " '1958',\n",
              " '1959',\n",
              " '1960',\n",
              " '1960s',\n",
              " '1961',\n",
              " '1962',\n",
              " '1962Ã¢Â\\x80Â\\x931967',\n",
              " '1963',\n",
              " '1964',\n",
              " '1965',\n",
              " '1966',\n",
              " '1967',\n",
              " '1968',\n",
              " '1969',\n",
              " '197-page',\n",
              " '1970',\n",
              " '1970s',\n",
              " '1970s-1990',\n",
              " '1971',\n",
              " '1972',\n",
              " '1973',\n",
              " '1974',\n",
              " '1975',\n",
              " '1975Ã¢Â\\x80Â\\x9377',\n",
              " '1976',\n",
              " '1976-77',\n",
              " '1977',\n",
              " '1978',\n",
              " '1978-81',\n",
              " '1978.',\n",
              " '1979',\n",
              " '198',\n",
              " '1980',\n",
              " '1980s',\n",
              " '1981',\n",
              " '1981-82',\n",
              " '1982',\n",
              " '1982-83',\n",
              " '1982Ã¢Â\\x80Â\\x9383',\n",
              " '1982Ã¢Â\\x80Â\\x9384',\n",
              " '1983',\n",
              " '1983-86',\n",
              " '1983Ã¢Â\\x80Â\\x9386',\n",
              " '1984',\n",
              " '1984Ã¢Â\\x80Â\\x931989',\n",
              " '1984Ã¢Â\\x80Â\\x9386',\n",
              " '1984Ã¢Â\\x80Â\\x9389',\n",
              " '1985',\n",
              " '1985Ã¢Â\\x80Â\\x9389',\n",
              " '1986',\n",
              " '1986-89',\n",
              " '1987',\n",
              " '1988',\n",
              " '1989',\n",
              " '1989-91',\n",
              " '1989Ã¢Â\\x80Â\\x9391',\n",
              " '199',\n",
              " '1990',\n",
              " '1990.',\n",
              " '1990??992',\n",
              " '1990s',\n",
              " '1990Ã¢Â\\x80Â\\x9391',\n",
              " '1991',\n",
              " '1991-94',\n",
              " '1991Ã¢Â\\x80Â\\x9393',\n",
              " '1991Ã¢Â\\x80Â\\x9396',\n",
              " '1992',\n",
              " '1993',\n",
              " '1993??994',\n",
              " '1993Ã¢Â\\x80Â\\x9394',\n",
              " '1994',\n",
              " '1994-2000',\n",
              " '1994Ã¢Â\\x80Â\\x9395',\n",
              " '1994Ã¢Â\\x80Â\\x9399',\n",
              " '1995',\n",
              " '1995Ã¢Â\\x80Â\\x931998',\n",
              " '1995Ã¢Â\\x80Â\\x9396',\n",
              " '1996',\n",
              " '1997',\n",
              " '1998',\n",
              " '1998Ã¢Â\\x80Â\\x9399',\n",
              " '1999',\n",
              " '1999.',\n",
              " '1999Ã¢Â\\x80Â\\x9300',\n",
              " '19th',\n",
              " '1??0',\n",
              " '1A',\n",
              " '1bn',\n",
              " '1nder',\n",
              " '1st',\n",
              " '1Ã¢Â\\x80Â\\x930',\n",
              " '2',\n",
              " \"2's\",\n",
              " '2,00,000',\n",
              " '2,000',\n",
              " '2,012',\n",
              " '2,10,000',\n",
              " '2,200',\n",
              " '2,200-kilometer',\n",
              " '2,204',\n",
              " '2,250',\n",
              " '2,30,000',\n",
              " '2,300',\n",
              " '2,400',\n",
              " '2,400-kilometer',\n",
              " '2,50,000',\n",
              " '2,500',\n",
              " '2,500-crore',\n",
              " '2,600',\n",
              " '2,671',\n",
              " '2,700',\n",
              " '2,711',\n",
              " '2,900',\n",
              " '2,994',\n",
              " '2-0',\n",
              " '2-inch-wide',\n",
              " '2.1',\n",
              " '2.11.37',\n",
              " '2.2',\n",
              " '2.21.40',\n",
              " '2.3',\n",
              " '2.38.46',\n",
              " '2.4',\n",
              " '2.5',\n",
              " '2.6',\n",
              " '2.7',\n",
              " '2.8',\n",
              " '2.9',\n",
              " '20',\n",
              " '20,000',\n",
              " '20-25',\n",
              " '20-ton',\n",
              " '20-year',\n",
              " '20-year-old',\n",
              " '20/20',\n",
              " '200',\n",
              " '200-kilometer',\n",
              " '200-meter',\n",
              " '200-mile',\n",
              " '200-mm',\n",
              " '2000',\n",
              " '2000-',\n",
              " '2000.',\n",
              " '2000s',\n",
              " '2000Ã¢Â\\x80Â\\x9304',\n",
              " '2001',\n",
              " '2002',\n",
              " '2002Ã¢Â\\x80Â\\x9306',\n",
              " '2003',\n",
              " '2004',\n",
              " '2004Ã¢Â\\x80Â\\x9306',\n",
              " '2005',\n",
              " '2005Ã¢Â\\x80Â\\x94mostly',\n",
              " '2006',\n",
              " '2006-07',\n",
              " '2006Ã¢Â\\x80Â\\x9309',\n",
              " '2007',\n",
              " '2007Ã¢Â\\x80Â\\x9308',\n",
              " '2008',\n",
              " '2008Ã¢Â\\x80Â\\x9309',\n",
              " '2009',\n",
              " '2009.',\n",
              " '2009Ã¢Â\\x80Â\\x9312',\n",
              " '200cm',\n",
              " '2010',\n",
              " '2010.',\n",
              " '2010Ã¢Â\\x80Â\\x9311',\n",
              " '2011',\n",
              " '2011-12',\n",
              " '2011-Phase',\n",
              " '2011.',\n",
              " '2012',\n",
              " '2012-13',\n",
              " '2012.',\n",
              " '2012Ã¢Â\\x80Â\\x9313',\n",
              " '2013',\n",
              " '2014',\n",
              " '2015',\n",
              " '2016',\n",
              " '2018',\n",
              " '2019',\n",
              " '202',\n",
              " '202-205-9942',\n",
              " '2020',\n",
              " '2023',\n",
              " '203',\n",
              " '204',\n",
              " '2047',\n",
              " '205895',\n",
              " '206196',\n",
              " '20886',\n",
              " '209',\n",
              " '209,775',\n",
              " '20:38',\n",
              " '20s',\n",
              " '20th',\n",
              " '20th-century',\n",
              " '20Ã\\x82Â°',\n",
              " '20Ã¢Â\\x80Â\\x9327',\n",
              " '21',\n",
              " '21,000',\n",
              " '21-member',\n",
              " '21-month',\n",
              " '21-month-old',\n",
              " '21-year',\n",
              " '21-year-old',\n",
              " '210',\n",
              " '2100',\n",
              " '213',\n",
              " '214',\n",
              " '215,000',\n",
              " '217',\n",
              " '218',\n",
              " '218-5',\n",
              " '21st',\n",
              " '22',\n",
              " '22,000',\n",
              " '22,987',\n",
              " '22-kilometer',\n",
              " '22-month-old',\n",
              " '22-nation',\n",
              " '22-year',\n",
              " '22-year-old',\n",
              " '22.4',\n",
              " '22.40',\n",
              " '22.5',\n",
              " '220',\n",
              " '220-kilogram',\n",
              " '221',\n",
              " '223',\n",
              " '224',\n",
              " '225-seat',\n",
              " '227',\n",
              " '227th',\n",
              " '228',\n",
              " '2293',\n",
              " '22nd',\n",
              " '22Ã\\x83Â\\x97',\n",
              " '23',\n",
              " '23-25',\n",
              " '23-year-old',\n",
              " '23.25',\n",
              " '230',\n",
              " '232',\n",
              " '232nd',\n",
              " '2338',\n",
              " '234',\n",
              " '238',\n",
              " '239',\n",
              " '23rd',\n",
              " '24',\n",
              " '24,000',\n",
              " '24-hour',\n",
              " '24-year',\n",
              " '24-year-old',\n",
              " '240',\n",
              " '240-8',\n",
              " '243',\n",
              " '246',\n",
              " '248',\n",
              " '25',\n",
              " '25,000',\n",
              " '25-member',\n",
              " '25-meter',\n",
              " '25-million',\n",
              " '25-year',\n",
              " '25-year-old',\n",
              " '25.93.',\n",
              " '250',\n",
              " '250,000',\n",
              " '252',\n",
              " '254',\n",
              " '255',\n",
              " '256',\n",
              " '258',\n",
              " '258831',\n",
              " '259',\n",
              " '25??6',\n",
              " '25th',\n",
              " '26',\n",
              " '26,000',\n",
              " '26,000-member',\n",
              " '26,303',\n",
              " '26,467',\n",
              " '26,956',\n",
              " '26-year',\n",
              " '26-year-old',\n",
              " '260',\n",
              " '261',\n",
              " '261169',\n",
              " '2612319',\n",
              " '262-261',\n",
              " '265',\n",
              " '266',\n",
              " '267',\n",
              " '268',\n",
              " ...]"
            ]
          },
          "metadata": {
            "tags": []
          },
          "execution_count": 21
        }
      ]
    },
    {
      "cell_type": "code",
      "metadata": {
        "id": "DElkIjNThGHS",
        "colab_type": "code",
        "colab": {}
      },
      "source": [
        "tags.sort()"
      ],
      "execution_count": 0,
      "outputs": []
    },
    {
      "cell_type": "code",
      "metadata": {
        "id": "RhctOpyhPlew",
        "colab_type": "code",
        "colab": {}
      },
      "source": [
        "max_len = 75\n",
        "word2idx = {w: i + 1 for i, w in enumerate(words)}\n",
        "tag2idx = {t: i for i, t in enumerate(tags)}\n"
      ],
      "execution_count": 0,
      "outputs": []
    },
    {
      "cell_type": "code",
      "metadata": {
        "id": "hnNRwLvPPoHv",
        "colab_type": "code",
        "outputId": "9d8d7b0f-8329-4783-adfa-a88365bc381e",
        "colab": {
          "base_uri": "https://localhost:8080/",
          "height": 34
        }
      },
      "source": [
        "word2idx[\"Obama\"]\n"
      ],
      "execution_count": 0,
      "outputs": [
        {
          "output_type": "execute_result",
          "data": {
            "text/plain": [
              "11202"
            ]
          },
          "metadata": {
            "tags": []
          },
          "execution_count": 24
        }
      ]
    },
    {
      "cell_type": "code",
      "metadata": {
        "id": "mOF9VcEBPqe6",
        "colab_type": "code",
        "outputId": "9d15dc76-1b06-4a96-f26f-b18a32e15481",
        "colab": {
          "base_uri": "https://localhost:8080/",
          "height": 34
        }
      },
      "source": [
        "tag2idx[\"B-LOC\"]\n"
      ],
      "execution_count": 0,
      "outputs": [
        {
          "output_type": "execute_result",
          "data": {
            "text/plain": [
              "4"
            ]
          },
          "metadata": {
            "tags": []
          },
          "execution_count": 26
        }
      ]
    },
    {
      "cell_type": "code",
      "metadata": {
        "id": "uBY3GLtWPtKQ",
        "colab_type": "code",
        "colab": {}
      },
      "source": [
        "from keras.preprocessing.sequence import pad_sequences\n",
        "X = [[word2idx[w[0]] for w in s] for s in cleaned_sentences]"
      ],
      "execution_count": 0,
      "outputs": []
    },
    {
      "cell_type": "code",
      "metadata": {
        "id": "t35E7HLplPxa",
        "colab_type": "code",
        "colab": {}
      },
      "source": [
        "X = pad_sequences(maxlen=max_len, sequences=X, padding=\"post\", value=n_words-1)\n"
      ],
      "execution_count": 0,
      "outputs": []
    },
    {
      "cell_type": "code",
      "metadata": {
        "id": "iQBWSCRQlS9g",
        "colab_type": "code",
        "colab": {}
      },
      "source": [
        "y = [[tag2idx[w[2]] for w in s] for s in sentences]\n"
      ],
      "execution_count": 0,
      "outputs": []
    },
    {
      "cell_type": "code",
      "metadata": {
        "id": "2f7qrE-GlV4K",
        "colab_type": "code",
        "colab": {}
      },
      "source": [
        "y = pad_sequences(maxlen=max_len, sequences=y, padding=\"post\", value=tag2idx[\"o\"])\n"
      ],
      "execution_count": 0,
      "outputs": []
    },
    {
      "cell_type": "code",
      "metadata": {
        "id": "tcuPv8aRlZHF",
        "colab_type": "code",
        "colab": {}
      },
      "source": [
        "from keras.utils import to_categorical\n"
      ],
      "execution_count": 0,
      "outputs": []
    },
    {
      "cell_type": "code",
      "metadata": {
        "id": "NSCvSyUUloky",
        "colab_type": "code",
        "colab": {}
      },
      "source": [
        "y = [to_categorical(i, num_classes=n_tags) for i in y]\n"
      ],
      "execution_count": 0,
      "outputs": []
    },
    {
      "cell_type": "code",
      "metadata": {
        "id": "AHkKk6eFlrJr",
        "colab_type": "code",
        "colab": {}
      },
      "source": [
        "from sklearn.model_selection import train_test_split\n"
      ],
      "execution_count": 0,
      "outputs": []
    },
    {
      "cell_type": "code",
      "metadata": {
        "id": "4wtd8n16ltSK",
        "colab_type": "code",
        "colab": {}
      },
      "source": [
        "X_tr, X_te, y_tr, y_te = train_test_split(X, y, test_size=0.1)\n"
      ],
      "execution_count": 0,
      "outputs": []
    },
    {
      "cell_type": "code",
      "metadata": {
        "id": "5BVfhIoplvY3",
        "colab_type": "code",
        "colab": {}
      },
      "source": [
        "from keras.models import Model, Input\n",
        "from keras.layers import LSTM, Embedding, Dense, TimeDistributed, Dropout, Bidirectional\n",
        "from keras_contrib.layers import CRF"
      ],
      "execution_count": 0,
      "outputs": []
    },
    {
      "cell_type": "code",
      "metadata": {
        "id": "fE6uJlESlyRg",
        "colab_type": "code",
        "outputId": "2ac322e1-768e-41a4-a1e6-7dbc0b51931d",
        "colab": {
          "base_uri": "https://localhost:8080/",
          "height": 139
        }
      },
      "source": [
        "input = Input(shape=(max_len,))\n",
        "model = Embedding(input_dim=n_words + 1, output_dim=20,\n",
        "                  input_length=max_len, mask_zero=True)(input)  # 20-dim embedding\n",
        "model = Bidirectional(LSTM(units=50, return_sequences=True,\n",
        "                           recurrent_dropout=0.1))(model)  # variational biLSTM\n",
        "model = TimeDistributed(Dense(50, activation=\"relu\"))(model)  # a dense layer as suggested by neuralNer\n",
        "crf = CRF(n_tags)  # CRF layer\n",
        "out = crf(model)  # output"
      ],
      "execution_count": 0,
      "outputs": [
        {
          "output_type": "stream",
          "text": [
            "WARNING:tensorflow:From /usr/local/lib/python3.6/dist-packages/tensorflow/python/framework/op_def_library.py:263: colocate_with (from tensorflow.python.framework.ops) is deprecated and will be removed in a future version.\n",
            "Instructions for updating:\n",
            "Colocations handled automatically by placer.\n",
            "WARNING:tensorflow:From /usr/local/lib/python3.6/dist-packages/keras/backend/tensorflow_backend.py:3445: calling dropout (from tensorflow.python.ops.nn_ops) with keep_prob is deprecated and will be removed in a future version.\n",
            "Instructions for updating:\n",
            "Please use `rate` instead of `keep_prob`. Rate should be set to `rate = 1 - keep_prob`.\n"
          ],
          "name": "stdout"
        }
      ]
    },
    {
      "cell_type": "code",
      "metadata": {
        "id": "0qTO116Dl-kl",
        "colab_type": "code",
        "colab": {}
      },
      "source": [
        "model = Model(input, out)\n"
      ],
      "execution_count": 0,
      "outputs": []
    },
    {
      "cell_type": "code",
      "metadata": {
        "id": "L-FRjqx_mBxA",
        "colab_type": "code",
        "outputId": "9f6be530-abd2-4809-f392-678469c3afb0",
        "colab": {
          "base_uri": "https://localhost:8080/",
          "height": 85
        }
      },
      "source": [
        "model.compile(optimizer=\"rmsprop\", loss=crf.loss_function, metrics=[crf.accuracy])\n"
      ],
      "execution_count": 0,
      "outputs": [
        {
          "output_type": "stream",
          "text": [
            "/usr/local/lib/python3.6/dist-packages/keras_contrib/layers/crf.py:346: UserWarning: CRF.loss_function is deprecated and it might be removed in the future. Please use losses.crf_loss instead.\n",
            "  warnings.warn('CRF.loss_function is deprecated '\n",
            "/usr/local/lib/python3.6/dist-packages/keras_contrib/layers/crf.py:353: UserWarning: CRF.accuracy is deprecated and it might be removed in the future. Please use metrics.crf_accuracy\n",
            "  warnings.warn('CRF.accuracy is deprecated and it '\n"
          ],
          "name": "stderr"
        }
      ]
    },
    {
      "cell_type": "code",
      "metadata": {
        "id": "vLO0mSvsmEal",
        "colab_type": "code",
        "outputId": "f7848a3d-6ce6-4f7a-da52-6e3944567926",
        "colab": {
          "base_uri": "https://localhost:8080/",
          "height": 306
        }
      },
      "source": [
        "model.summary()\n"
      ],
      "execution_count": 0,
      "outputs": [
        {
          "output_type": "stream",
          "text": [
            "_________________________________________________________________\n",
            "Layer (type)                 Output Shape              Param #   \n",
            "=================================================================\n",
            "input_1 (InputLayer)         (None, 75)                0         \n",
            "_________________________________________________________________\n",
            "embedding_1 (Embedding)      (None, 75, 20)            654200    \n",
            "_________________________________________________________________\n",
            "bidirectional_1 (Bidirection (None, 75, 100)           28400     \n",
            "_________________________________________________________________\n",
            "time_distributed_1 (TimeDist (None, 75, 50)            5050      \n",
            "_________________________________________________________________\n",
            "crf_1 (CRF)                  (None, 75, 17)            1190      \n",
            "=================================================================\n",
            "Total params: 688,840\n",
            "Trainable params: 688,840\n",
            "Non-trainable params: 0\n",
            "_________________________________________________________________\n"
          ],
          "name": "stdout"
        }
      ]
    },
    {
      "cell_type": "code",
      "metadata": {
        "id": "YNXJcpU6mHSe",
        "colab_type": "code",
        "outputId": "388a68a5-38e5-4155-e501-06d7ab1ea38e",
        "colab": {
          "base_uri": "https://localhost:8080/",
          "height": 275
        }
      },
      "source": [
        "history = model.fit(X_tr, np.array(y_tr), batch_size=32, epochs=5,\n",
        "                    validation_split=0.1, verbose=1)"
      ],
      "execution_count": 0,
      "outputs": [
        {
          "output_type": "stream",
          "text": [
            "WARNING:tensorflow:From /usr/local/lib/python3.6/dist-packages/tensorflow/python/ops/math_ops.py:3066: to_int32 (from tensorflow.python.ops.math_ops) is deprecated and will be removed in a future version.\n",
            "Instructions for updating:\n",
            "Use tf.cast instead.\n",
            "Train on 20595 samples, validate on 2289 samples\n",
            "Epoch 1/5\n",
            "20595/20595 [==============================] - 116s 6ms/step - loss: 0.2220 - crf_viterbi_accuracy: 0.9421 - val_loss: 0.1248 - val_crf_viterbi_accuracy: 0.9627\n",
            "Epoch 2/5\n",
            "20595/20595 [==============================] - 112s 5ms/step - loss: 0.0983 - crf_viterbi_accuracy: 0.9690 - val_loss: 0.0781 - val_crf_viterbi_accuracy: 0.9743\n",
            "Epoch 3/5\n",
            "20595/20595 [==============================] - 141s 7ms/step - loss: 0.0664 - crf_viterbi_accuracy: 0.9770 - val_loss: 0.0632 - val_crf_viterbi_accuracy: 0.9771\n",
            "Epoch 4/5\n",
            "20595/20595 [==============================] - 139s 7ms/step - loss: 0.0533 - crf_viterbi_accuracy: 0.9802 - val_loss: 0.0567 - val_crf_viterbi_accuracy: 0.9782\n",
            "Epoch 5/5\n",
            "20595/20595 [==============================] - 221s 11ms/step - loss: 0.0459 - crf_viterbi_accuracy: 0.9819 - val_loss: 0.0509 - val_crf_viterbi_accuracy: 0.9800\n"
          ],
          "name": "stdout"
        }
      ]
    },
    {
      "cell_type": "code",
      "metadata": {
        "id": "E10L-LiYqXg5",
        "colab_type": "code",
        "outputId": "dc20a024-54d5-4c44-d624-b1fbde263a4a",
        "colab": {
          "base_uri": "https://localhost:8080/",
          "height": 51
        }
      },
      "source": [
        "!pip install seqeval"
      ],
      "execution_count": 0,
      "outputs": [
        {
          "output_type": "stream",
          "text": [
            "Requirement already satisfied: seqeval in /usr/local/lib/python3.6/dist-packages (0.0.6)\n",
            "Requirement already satisfied: numpy>=1.14.0 in /usr/local/lib/python3.6/dist-packages (from seqeval) (1.14.6)\n"
          ],
          "name": "stdout"
        }
      ]
    },
    {
      "cell_type": "code",
      "metadata": {
        "id": "mgtPEdQsmKny",
        "colab_type": "code",
        "colab": {}
      },
      "source": [
        "from seqeval.metrics import precision_score, recall_score, f1_score, classification_report\n"
      ],
      "execution_count": 0,
      "outputs": []
    },
    {
      "cell_type": "code",
      "metadata": {
        "id": "V9rekQZhqVWi",
        "colab_type": "code",
        "outputId": "179b8179-bf8d-4cf6-fcfc-da89742cfd53",
        "colab": {
          "base_uri": "https://localhost:8080/",
          "height": 34
        }
      },
      "source": [
        "test_pred = model.predict(X_te, verbose=1)\n"
      ],
      "execution_count": 0,
      "outputs": [
        {
          "output_type": "stream",
          "text": [
            "2543/2543 [==============================] - 10s 4ms/step\n"
          ],
          "name": "stdout"
        }
      ]
    },
    {
      "cell_type": "code",
      "metadata": {
        "id": "KBpVUgYIqibG",
        "colab_type": "code",
        "colab": {}
      },
      "source": [
        "idx2tag = {i: w for w, i in tag2idx.items()}\n",
        "\n",
        "def pred2label(pred):\n",
        "    out = []\n",
        "    for pred_i in pred:\n",
        "        out_i = []\n",
        "        for p in pred_i:\n",
        "            p_i = np.argmax(p)\n",
        "            out_i.append(idx2tag[p_i].replace(\"PAD\", \"O\"))\n",
        "        out.append(out_i)\n",
        "    return out\n",
        "    \n",
        "pred_labels = pred2label(test_pred)\n",
        "test_labels = pred2label(y_te)"
      ],
      "execution_count": 0,
      "outputs": []
    },
    {
      "cell_type": "code",
      "metadata": {
        "id": "ALefUPKiqnbT",
        "colab_type": "code",
        "outputId": "c9a78a32-f552-48a6-aa40-9523ade077e3",
        "colab": {
          "base_uri": "https://localhost:8080/",
          "height": 34
        }
      },
      "source": [
        "print(\"F1-score: {:.1%}\".format(f1_score(test_labels, pred_labels)))\n"
      ],
      "execution_count": 0,
      "outputs": [
        {
          "output_type": "stream",
          "text": [
            "F1-score: 75.9%\n"
          ],
          "name": "stdout"
        }
      ]
    },
    {
      "cell_type": "code",
      "metadata": {
        "id": "hDwG1AqPqqOc",
        "colab_type": "code",
        "outputId": "fb8afdf1-3df6-42c0-b51d-8be00e31092f",
        "colab": {
          "base_uri": "https://localhost:8080/",
          "height": 255
        }
      },
      "source": [
        "print(classification_report(test_labels, pred_labels))\n"
      ],
      "execution_count": 0,
      "outputs": [
        {
          "output_type": "stream",
          "text": [
            "             precision    recall  f1-score   support\n",
            "\n",
            "        LOC       0.78      0.80      0.79      1940\n",
            "        PER       0.74      0.70      0.72      1590\n",
            "         DT       0.86      0.75      0.80      1226\n",
            "          o       0.81      0.76      0.78      8703\n",
            "        GPE       0.90      0.78      0.84      1119\n",
            "        ORG       0.65      0.52      0.58      1117\n",
            "        ART       0.00      0.00      0.00        59\n",
            "        NUM       0.51      0.17      0.25       302\n",
            "        EVE       0.11      0.06      0.08        48\n",
            "\n",
            "avg / total       0.79      0.73      0.75     16104\n",
            "\n"
          ],
          "name": "stdout"
        }
      ]
    },
    {
      "cell_type": "code",
      "metadata": {
        "id": "moLE77dBqtYY",
        "colab_type": "code",
        "outputId": "243e08da-761a-452e-823c-fbbec7c696ad",
        "colab": {
          "base_uri": "https://localhost:8080/",
          "height": 1326
        }
      },
      "source": [
        "i = 1901\n",
        "p = model.predict(np.array([X_te[i]]))\n",
        "p = np.argmax(p, axis=-1)\n",
        "true = np.argmax(y_te[i], -1)\n",
        "print(\"{:15}||{:5}||{}\".format(\"Word\", \"True\", \"Pred\"))\n",
        "print(30 * \"=\")\n",
        "for w, t, pred in zip(X_te[i], true, p[0]):\n",
        "    if w != 0:\n",
        "        print(\"{:15}: {:5} {}\".format(words[w-1], tags[t], tags[pred]))"
      ],
      "execution_count": 0,
      "outputs": [
        {
          "output_type": "stream",
          "text": [
            "Word           ||True ||Pred\n",
            "==============================\n",
            "Indian         : B-GPE B-GPE\n",
            "officials      : o     o\n",
            "say            : o     o\n",
            "the            : o     o\n",
            "long-running   : o     o\n",
            "Maoist         : B-ORG o\n",
            "insurgency     : o     o\n",
            ",              : o     o\n",
            "which          : o     o\n",
            "has            : o     o\n",
            "spread         : o     o\n",
            "to             : o     o\n",
            "20             : o     o\n",
            "of             : o     o\n",
            "the            : o     o\n",
            "country        : o     o\n",
            "'s             : o     o\n",
            "28             : o     o\n",
            "states         : o     o\n",
            ",              : o     o\n",
            "is             : o     o\n",
            "India          : B-LOC B-GPE\n",
            "'s             : o     o\n",
            "most           : o     o\n",
            "serious        : o     o\n",
            "domestic       : o     o\n",
            "security       : o     o\n",
            "issue          : o     o\n",
            ".              : o     o\n",
            "Ã­ÂÂÃ¬ÂÂ¬   : o     o\n",
            "Ã­ÂÂÃ¬ÂÂ¬   : o     o\n",
            "Ã­ÂÂÃ¬ÂÂ¬   : o     o\n",
            "Ã­ÂÂÃ¬ÂÂ¬   : o     o\n",
            "Ã­ÂÂÃ¬ÂÂ¬   : o     o\n",
            "Ã­ÂÂÃ¬ÂÂ¬   : o     o\n",
            "Ã­ÂÂÃ¬ÂÂ¬   : o     o\n",
            "Ã­ÂÂÃ¬ÂÂ¬   : o     o\n",
            "Ã­ÂÂÃ¬ÂÂ¬   : o     o\n",
            "Ã­ÂÂÃ¬ÂÂ¬   : o     o\n",
            "Ã­ÂÂÃ¬ÂÂ¬   : o     o\n",
            "Ã­ÂÂÃ¬ÂÂ¬   : o     o\n",
            "Ã­ÂÂÃ¬ÂÂ¬   : o     o\n",
            "Ã­ÂÂÃ¬ÂÂ¬   : o     o\n",
            "Ã­ÂÂÃ¬ÂÂ¬   : o     o\n",
            "Ã­ÂÂÃ¬ÂÂ¬   : o     o\n",
            "Ã­ÂÂÃ¬ÂÂ¬   : o     o\n",
            "Ã­ÂÂÃ¬ÂÂ¬   : o     o\n",
            "Ã­ÂÂÃ¬ÂÂ¬   : o     o\n",
            "Ã­ÂÂÃ¬ÂÂ¬   : o     o\n",
            "Ã­ÂÂÃ¬ÂÂ¬   : o     o\n",
            "Ã­ÂÂÃ¬ÂÂ¬   : o     o\n",
            "Ã­ÂÂÃ¬ÂÂ¬   : o     o\n",
            "Ã­ÂÂÃ¬ÂÂ¬   : o     o\n",
            "Ã­ÂÂÃ¬ÂÂ¬   : o     o\n",
            "Ã­ÂÂÃ¬ÂÂ¬   : o     o\n",
            "Ã­ÂÂÃ¬ÂÂ¬   : o     o\n",
            "Ã­ÂÂÃ¬ÂÂ¬   : o     o\n",
            "Ã­ÂÂÃ¬ÂÂ¬   : o     o\n",
            "Ã­ÂÂÃ¬ÂÂ¬   : o     o\n",
            "Ã­ÂÂÃ¬ÂÂ¬   : o     o\n",
            "Ã­ÂÂÃ¬ÂÂ¬   : o     o\n",
            "Ã­ÂÂÃ¬ÂÂ¬   : o     o\n",
            "Ã­ÂÂÃ¬ÂÂ¬   : o     o\n",
            "Ã­ÂÂÃ¬ÂÂ¬   : o     o\n",
            "Ã­ÂÂÃ¬ÂÂ¬   : o     o\n",
            "Ã­ÂÂÃ¬ÂÂ¬   : o     o\n",
            "Ã­ÂÂÃ¬ÂÂ¬   : o     o\n",
            "Ã­ÂÂÃ¬ÂÂ¬   : o     o\n",
            "Ã­ÂÂÃ¬ÂÂ¬   : o     o\n",
            "Ã­ÂÂÃ¬ÂÂ¬   : o     o\n",
            "Ã­ÂÂÃ¬ÂÂ¬   : o     o\n",
            "Ã­ÂÂÃ¬ÂÂ¬   : o     o\n",
            "Ã­ÂÂÃ¬ÂÂ¬   : o     o\n",
            "Ã­ÂÂÃ¬ÂÂ¬   : o     o\n",
            "Ã­ÂÂÃ¬ÂÂ¬   : o     o\n"
          ],
          "name": "stdout"
        }
      ]
    },
    {
      "cell_type": "code",
      "metadata": {
        "id": "KoXoNfpLq0SD",
        "colab_type": "code",
        "colab": {}
      },
      "source": [
        "test_sentence = [\"Hawking\", \"was\", \"a\", \"Fellow\", \"of\", \"the\", \"Royal\", \"Society\", \",\", \"a\", \"lifetime\", \"member\",\n",
        "                 \"of\", \"the\", \"Pontifical\", \"Academy\", \"of\", \"Sciences\", \",\", \"and\", \"a\", \"recipient\", \"of\",\n",
        "                 \"the\", \"Presidential\", \"Medal\", \"of\", \"Freedom\", \",\", \"the\", \"highest\", \"civilian\", \"award\",\n",
        "                 \"in\", \"the\", \"United\", \"States\", \".\"]"
      ],
      "execution_count": 0,
      "outputs": []
    },
    {
      "cell_type": "code",
      "metadata": {
        "id": "KJVIECIGq9SB",
        "colab_type": "code",
        "colab": {}
      },
      "source": [
        "x_test_sent = pad_sequences(sequences=[[word2idx.get(w, 0) for w in test_sentence]],\n",
        "                            padding=\"post\", value=0, maxlen=max_len)"
      ],
      "execution_count": 0,
      "outputs": []
    },
    {
      "cell_type": "code",
      "metadata": {
        "id": "IqHmrwiGrAFJ",
        "colab_type": "code",
        "outputId": "38ab8f49-7d6b-4b78-855f-a54371b625c2",
        "colab": {
          "base_uri": "https://localhost:8080/",
          "height": 697
        }
      },
      "source": [
        "p = model.predict(np.array([x_test_sent[0]]))\n",
        "p = np.argmax(p, axis=-1)\n",
        "print(\"{:15}||{}\".format(\"Word\", \"Prediction\"))\n",
        "print(30 * \"=\")\n",
        "for w, pred in zip(test_sentence, p[0]):\n",
        "    print(\"{:15}: {:5}\".format(w, tags[pred]))"
      ],
      "execution_count": 0,
      "outputs": [
        {
          "output_type": "stream",
          "text": [
            "Word           ||Prediction\n",
            "==============================\n",
            "Hawking        : B-ART\n",
            "was            : o    \n",
            "a              : o    \n",
            "Fellow         : o    \n",
            "of             : o    \n",
            "the            : o    \n",
            "Royal          : B-ORG\n",
            "Society        : I-ORG\n",
            ",              : o    \n",
            "a              : o    \n",
            "lifetime       : o    \n",
            "member         : o    \n",
            "of             : o    \n",
            "the            : o    \n",
            "Pontifical     : o    \n",
            "Academy        : o    \n",
            "of             : o    \n",
            "Sciences       : o    \n",
            ",              : o    \n",
            "and            : o    \n",
            "a              : o    \n",
            "recipient      : o    \n",
            "of             : o    \n",
            "the            : o    \n",
            "Presidential   : o    \n",
            "Medal          : o    \n",
            "of             : o    \n",
            "Freedom        : o    \n",
            ",              : o    \n",
            "the            : o    \n",
            "highest        : o    \n",
            "civilian       : o    \n",
            "award          : o    \n",
            "in             : o    \n",
            "the            : o    \n",
            "United         : B-LOC\n",
            "States         : I-LOC\n",
            ".              : o    \n"
          ],
          "name": "stdout"
        }
      ]
    },
    {
      "cell_type": "code",
      "metadata": {
        "id": "QQJHpnL7rCtY",
        "colab_type": "code",
        "colab": {}
      },
      "source": [
        ""
      ],
      "execution_count": 0,
      "outputs": []
    }
  ]
}